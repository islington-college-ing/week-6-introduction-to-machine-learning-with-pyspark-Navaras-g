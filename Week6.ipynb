{
  "nbformat": 4,
  "nbformat_minor": 0,
  "metadata": {
    "colab": {
      "provenance": []
    },
    "kernelspec": {
      "name": "python3",
      "display_name": "Python 3"
    },
    "language_info": {
      "name": "python"
    }
  },
  "cells": [
    {
      "cell_type": "code",
      "execution_count": 2,
      "metadata": {
        "colab": {
          "base_uri": "https://localhost:8080/"
        },
        "id": "anXqR1eStJot",
        "outputId": "82b2092f-d6d3-4d02-86cc-3cb6e23495be"
      },
      "outputs": [
        {
          "output_type": "stream",
          "name": "stdout",
          "text": [
            "Collecting pyspark\n",
            "  Using cached pyspark-3.5.2.tar.gz (317.3 MB)\n",
            "  Preparing metadata (setup.py) ... \u001b[?25l\u001b[?25hdone\n",
            "Requirement already satisfied: pandas in /usr/local/lib/python3.10/dist-packages (2.1.4)\n",
            "Requirement already satisfied: py4j==0.10.9.7 in /usr/local/lib/python3.10/dist-packages (from pyspark) (0.10.9.7)\n",
            "Requirement already satisfied: numpy<2,>=1.22.4 in /usr/local/lib/python3.10/dist-packages (from pandas) (1.26.4)\n",
            "Requirement already satisfied: python-dateutil>=2.8.2 in /usr/local/lib/python3.10/dist-packages (from pandas) (2.8.2)\n",
            "Requirement already satisfied: pytz>=2020.1 in /usr/local/lib/python3.10/dist-packages (from pandas) (2024.1)\n",
            "Requirement already satisfied: tzdata>=2022.1 in /usr/local/lib/python3.10/dist-packages (from pandas) (2024.1)\n",
            "Requirement already satisfied: six>=1.5 in /usr/local/lib/python3.10/dist-packages (from python-dateutil>=2.8.2->pandas) (1.16.0)\n",
            "Building wheels for collected packages: pyspark\n",
            "  Building wheel for pyspark (setup.py) ... \u001b[?25l\u001b[?25hdone\n",
            "  Created wheel for pyspark: filename=pyspark-3.5.2-py2.py3-none-any.whl size=317812365 sha256=2e4780f4b4da146fd0f614d4a6979b19d19e3e37fc21c6303db8ea8325bbbfaa\n",
            "  Stored in directory: /root/.cache/pip/wheels/34/34/bd/03944534c44b677cd5859f248090daa9fb27b3c8f8e5f49574\n",
            "Successfully built pyspark\n",
            "Installing collected packages: pyspark\n",
            "Successfully installed pyspark-3.5.2\n"
          ]
        }
      ],
      "source": [
        "!pip install pyspark pandas"
      ]
    },
    {
      "cell_type": "code",
      "source": [
        "# Import necessary libraries\n",
        "from pyspark.sql import SparkSession\n",
        "# Initialize Spark session\n",
        "spark = SparkSession.builder.appName(\"HousePricePrediction\").getOrCreate()"
      ],
      "metadata": {
        "id": "bMRf3byNtMIM"
      },
      "execution_count": 3,
      "outputs": []
    },
    {
      "cell_type": "code",
      "source": [
        "# Step 1: Load Data\n",
        "# Sample dataset\n",
        "data = [\n",
        " (1200, 3, 2, 300000),\n",
        " (1500, 4, 3, 350000),\n",
        " (800, 2, 1, 200000),\n",
        " (2500, None, 3, 450000),\n",
        " (1800, 4, 2, 400000),\n",
        " (2500, 5, 3, 500000),\n",
        " (None, 4, 3, 400000)\n",
        "]\n",
        "# Define schema\n",
        "columns = [\"SquareFootage\", \"Bedrooms\", \"Bathrooms\",\n",
        "\"Price\"]"
      ],
      "metadata": {
        "id": "HzG2Bz4ruvhv"
      },
      "execution_count": 4,
      "outputs": []
    },
    {
      "cell_type": "code",
      "source": [
        "# Create DataFrame\n",
        "df = spark.createDataFrame(data, schema=columns)\n",
        "df.show()"
      ],
      "metadata": {
        "colab": {
          "base_uri": "https://localhost:8080/"
        },
        "id": "h0HWKKqfu26_",
        "outputId": "3fc98826-31c5-4ba5-e779-d529bbcb73cc"
      },
      "execution_count": 5,
      "outputs": [
        {
          "output_type": "stream",
          "name": "stdout",
          "text": [
            "+-------------+--------+---------+------+\n",
            "|SquareFootage|Bedrooms|Bathrooms| Price|\n",
            "+-------------+--------+---------+------+\n",
            "|         1200|       3|        2|300000|\n",
            "|         1500|       4|        3|350000|\n",
            "|          800|       2|        1|200000|\n",
            "|         2500|    NULL|        3|450000|\n",
            "|         1800|       4|        2|400000|\n",
            "|         2500|       5|        3|500000|\n",
            "|         NULL|       4|        3|400000|\n",
            "+-------------+--------+---------+------+\n",
            "\n"
          ]
        }
      ]
    },
    {
      "cell_type": "code",
      "source": [
        "# Step 2: Data Preprocessing\n",
        "from pyspark.ml.feature import VectorAssembler, StandardScaler\n",
        "# Check for missing values\n",
        "df.describe().show()\n"
      ],
      "metadata": {
        "colab": {
          "base_uri": "https://localhost:8080/"
        },
        "id": "HEfmJvq8u6D_",
        "outputId": "90c0598d-22cc-449a-e399-a6abbaa13b66"
      },
      "execution_count": 6,
      "outputs": [
        {
          "output_type": "stream",
          "name": "stdout",
          "text": [
            "+-------+------------------+------------------+------------------+-----------------+\n",
            "|summary|     SquareFootage|          Bedrooms|         Bathrooms|            Price|\n",
            "+-------+------------------+------------------+------------------+-----------------+\n",
            "|  count|                 6|                 6|                 7|                7|\n",
            "|   mean|1716.6666666666667|3.6666666666666665|2.4285714285714284|371428.5714285714|\n",
            "| stddev| 691.1343333004565|1.0327955589886444|0.7867957924694432| 99402.9797388005|\n",
            "|    min|               800|                 2|                 1|           200000|\n",
            "|    max|              2500|                 5|                 3|           500000|\n",
            "+-------+------------------+------------------+------------------+-----------------+\n",
            "\n"
          ]
        }
      ]
    },
    {
      "cell_type": "code",
      "source": [
        "# Fill missing values (if any) with mean of the column\n",
        "df = df.na.fill({\n",
        " 'SquareFootage': df.agg({'SquareFootage': 'mean'}).collect()[0][0],\n",
        " 'Bedrooms': df.agg({'Bedrooms': 'mean'}).collect()[0][0],\n",
        " 'Bathrooms': df.agg({'Bathrooms': 'mean'}).collect()[0][0]\n",
        "})\n",
        "df.show()\n"
      ],
      "metadata": {
        "colab": {
          "base_uri": "https://localhost:8080/"
        },
        "id": "Cj666LEevNT5",
        "outputId": "7414c79e-2064-4035-9f6e-152d25055b8a"
      },
      "execution_count": 7,
      "outputs": [
        {
          "output_type": "stream",
          "name": "stdout",
          "text": [
            "+-------------+--------+---------+------+\n",
            "|SquareFootage|Bedrooms|Bathrooms| Price|\n",
            "+-------------+--------+---------+------+\n",
            "|         1200|       3|        2|300000|\n",
            "|         1500|       4|        3|350000|\n",
            "|          800|       2|        1|200000|\n",
            "|         2500|       3|        3|450000|\n",
            "|         1800|       4|        2|400000|\n",
            "|         2500|       5|        3|500000|\n",
            "|         1716|       4|        3|400000|\n",
            "+-------------+--------+---------+------+\n",
            "\n"
          ]
        }
      ]
    },
    {
      "cell_type": "code",
      "source": [
        "# Normalize the features using StandardScaler if needed:\n",
        "# Assemble features into a vector\n",
        "assembler = VectorAssembler(inputCols=[\"SquareFootage\", \"Bedrooms\",\n",
        "\"Bathrooms\"], outputCol=\"unscaled_features\")\n",
        "output = assembler.transform(df)\n",
        "# Scale features\n",
        "scaler = StandardScaler(inputCol=\"unscaled_features\", outputCol=\"features\",\n",
        "withStd=True, withMean=True)\n",
        "scaler_model = scaler.fit(output)\n",
        "scaled_output = scaler_model.transform(output)\n",
        "# Show scaled features\n",
        "scaled_output.select(\"features\", \"Price\").show()"
      ],
      "metadata": {
        "colab": {
          "base_uri": "https://localhost:8080/"
        },
        "id": "nO1L3-4KvVuy",
        "outputId": "c2920854-8dd1-4ef2-c223-a349c1b558fb"
      },
      "execution_count": 8,
      "outputs": [
        {
          "output_type": "stream",
          "name": "stdout",
          "text": [
            "+--------------------+------+\n",
            "|            features| Price|\n",
            "+--------------------+------+\n",
            "|[-0.8187635537508...|300000|\n",
            "|[-0.3432648084862...|350000|\n",
            "|[-1.4527618807703...|200000|\n",
            "|[1.24173100906247...|450000|\n",
            "|[0.13223393677835...|400000|\n",
            "|[1.24173100906247...|500000|\n",
            "|[-9.0571189574193...|400000|\n",
            "+--------------------+------+\n",
            "\n"
          ]
        }
      ]
    },
    {
      "cell_type": "code",
      "source": [
        "# Split the data into training and test sets\n",
        "train_data, test_data = scaled_output.randomSplit([0.8, 0.2])\n",
        "# Step 3: Model Training\n",
        "from pyspark.ml.regression import LinearRegression\n",
        "# Initialize the linear regression model\n",
        "lr = LinearRegression(labelCol=\"Price\", featuresCol=\"features\")\n",
        "# Fit the model to the training data\n",
        "model = lr.fit(train_data)"
      ],
      "metadata": {
        "id": "bCe0WT5QvcgT"
      },
      "execution_count": 9,
      "outputs": []
    },
    {
      "cell_type": "code",
      "source": [
        "# Step 4: Model Evaluation\n",
        "from pyspark.ml.evaluation import RegressionEvaluator\n",
        "# Make predictions on the test data\n",
        "predictions = model.transform(test_data)\n",
        "predictions.select(\"features\", \"Price\", \"prediction\").show()\n",
        "# Evaluate the model's performance\n",
        "evaluator = RegressionEvaluator(labelCol=\"Price\", predictionCol=\"prediction\",\n",
        "metricName=\"rmse\")\n",
        "rmse = evaluator.evaluate(predictions)\n",
        "print(f\"Root Mean Squared Error (RMSE): {rmse}\")\n",
        "# Make predictions on the test data\n",
        "predictions = model.transform(test_data)\n",
        "# Calculate R-squared\n",
        "evaluator_r2 = RegressionEvaluator(labelCol=\"Price\", predictionCol=\"prediction\",\n",
        "metricName=\"r2\")\n",
        "r2 = evaluator_r2.evaluate(predictions)\n",
        "print(f\"R-squared (R²): {r2}\")\n",
        "# Calculate Mean Absolute Error (MAE)\n",
        "evaluator_mae = RegressionEvaluator(\n",
        " labelCol=\"Price\", predictionCol=\"prediction\", metricName=\"mae\"\n",
        ")\n",
        "mae = evaluator_mae.evaluate(predictions)\n",
        "print(f\"Mean Absolute Error (MAE): {mae}\")"
      ],
      "metadata": {
        "colab": {
          "base_uri": "https://localhost:8080/"
        },
        "id": "_672lbZ6viLD",
        "outputId": "ab08f7df-19d7-4d4e-9a6a-6e93b6467983"
      },
      "execution_count": 10,
      "outputs": [
        {
          "output_type": "stream",
          "name": "stdout",
          "text": [
            "+--------------------+------+-----------------+\n",
            "|            features| Price|       prediction|\n",
            "+--------------------+------+-----------------+\n",
            "|[-1.4527618807703...|200000|392857.1428571429|\n",
            "|[-0.8187635537508...|300000|402380.9523809524|\n",
            "|[-0.3432648084862...|350000|409523.8095238096|\n",
            "|[-9.0571189574193...|400000|414666.6666666667|\n",
            "|[1.24173100906247...|500000|416666.6666666667|\n",
            "+--------------------+------+-----------------+\n",
            "\n",
            "Root Mean Squared Error (RMSE): 108054.03871881291\n",
            "R-squared (R²): -0.16756752834467203\n",
            "Mean Absolute Error (MAE): 90552.38095238098\n"
          ]
        }
      ]
    },
    {
      "cell_type": "code",
      "source": [
        "# Save the model for future use\n",
        "model.write().overwrite().save(\"house_price_model\")\n",
        "# PREDICT Price for given data (SquareFootage:1600, Bedrooms:3,Bathrooms:2)\n",
        "from pyspark.ml.regression import LinearRegressionModel\n",
        "# Load the saved model\n",
        "model = LinearRegressionModel.load(\"house_price_model\")\n",
        "# New data example (SquareFootage, Bedrooms, Bathrooms)\n",
        "new_df = spark.createDataFrame([(1600, 3, 2)], schema=[\"SquareFootage\",\n",
        "\"Bedrooms\", \"Bathrooms\"])\n",
        "# Assemble features into a single vector (no need to scale if the model was trained on unscaled data)\n",
        "assembler = VectorAssembler(inputCols=[\"SquareFootage\", \"Bedrooms\",\n",
        "\"Bathrooms\"], outputCol=\"features\")\n",
        "new_vector_data = assembler.transform(new_df)\n",
        "# Make prediction\n",
        "new_predictions = model.transform(new_vector_data)\n",
        "# Show the prediction\n",
        "new_predictions.show()\n"
      ],
      "metadata": {
        "colab": {
          "base_uri": "https://localhost:8080/"
        },
        "id": "V0dP0Y2Lvvm9",
        "outputId": "0c6793be-f6a0-4c5b-c322-a4856c46647a"
      },
      "execution_count": 13,
      "outputs": [
        {
          "output_type": "stream",
          "name": "stdout",
          "text": [
            "+-------------+--------+---------+----------------+--------------------+\n",
            "|SquareFootage|Bedrooms|Bathrooms|        features|          prediction|\n",
            "+-------------+--------+---------+----------------+--------------------+\n",
            "|         1600|       3|        2|[1600.0,3.0,2.0]|2.4424644798391443E7|\n",
            "+-------------+--------+---------+----------------+--------------------+\n",
            "\n"
          ]
        }
      ]
    },
    {
      "cell_type": "code",
      "source": [],
      "metadata": {
        "id": "vMOdrJpxv7zN"
      },
      "execution_count": null,
      "outputs": []
    }
  ]
}